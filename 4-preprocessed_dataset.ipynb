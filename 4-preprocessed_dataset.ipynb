{
 "cells": [
  {
   "cell_type": "code",
   "execution_count": 2,
   "metadata": {},
   "outputs": [
    {
     "data": {
      "text/plain": [
       "'C:\\\\Users\\\\Program1\\\\AppData\\\\Local\\\\Programs\\\\Microsoft VS Code'"
      ]
     },
     "execution_count": 2,
     "metadata": {},
     "output_type": "execute_result"
    }
   ],
   "source": [
    "import os\n",
    "import pandas as pd\n",
    "from sklearn.model_selection import train_test_split\n",
    "import numpy as np\n",
    "import matplotlib.pyplot as plt\n",
    "import seaborn as sns\n",
    "os.getcwd()"
   ]
  },
  {
   "cell_type": "code",
   "execution_count": null,
   "metadata": {},
   "outputs": [],
   "source": [
    "%pip install sklearn"
   ]
  },
  {
   "cell_type": "code",
   "execution_count": 3,
   "metadata": {},
   "outputs": [
    {
     "name": "stdout",
     "output_type": "stream",
     "text": [
      "<class 'pandas.core.frame.DataFrame'>\n",
      "RangeIndex: 90 entries, 0 to 89\n",
      "Data columns (total 89 columns):\n",
      " #   Column                               Non-Null Count  Dtype  \n",
      "---  ------                               --------------  -----  \n",
      " 0   Unnamed: 0                           90 non-null     int64  \n",
      " 1   PayloadMass                          90 non-null     float64\n",
      " 2   Flights                              90 non-null     int64  \n",
      " 3   GridFins                             90 non-null     int64  \n",
      " 4   Reused                               90 non-null     int64  \n",
      " 5   Legs                                 90 non-null     int64  \n",
      " 6   Block                                90 non-null     float64\n",
      " 7   ReusedCount                          90 non-null     int64  \n",
      " 8   Class                                90 non-null     int64  \n",
      " 9   Orbit_ES-L1                          90 non-null     int64  \n",
      " 10  Orbit_GEO                            90 non-null     int64  \n",
      " 11  Orbit_GTO                            90 non-null     int64  \n",
      " 12  Orbit_HEO                            90 non-null     int64  \n",
      " 13  Orbit_ISS                            90 non-null     int64  \n",
      " 14  Orbit_LEO                            90 non-null     int64  \n",
      " 15  Orbit_MEO                            90 non-null     int64  \n",
      " 16  Orbit_PO                             90 non-null     int64  \n",
      " 17  Orbit_SO                             90 non-null     int64  \n",
      " 18  Orbit_SSO                            90 non-null     int64  \n",
      " 19  Orbit_VLEO                           90 non-null     int64  \n",
      " 20  LaunchSite_CCAFS SLC 40              90 non-null     int64  \n",
      " 21  LaunchSite_KSC LC 39A                90 non-null     int64  \n",
      " 22  LaunchSite_VAFB SLC 4E               90 non-null     int64  \n",
      " 23  Outcome_False ASDS                   90 non-null     int64  \n",
      " 24  Outcome_False Ocean                  90 non-null     int64  \n",
      " 25  Outcome_False RTLS                   90 non-null     int64  \n",
      " 26  Outcome_None ASDS                    90 non-null     int64  \n",
      " 27  Outcome_None None                    90 non-null     int64  \n",
      " 28  Outcome_True ASDS                    90 non-null     int64  \n",
      " 29  Outcome_True Ocean                   90 non-null     int64  \n",
      " 30  Outcome_True RTLS                    90 non-null     int64  \n",
      " 31  LandingPad_5e9e3032383ecb267a34e7c7  90 non-null     int64  \n",
      " 32  LandingPad_5e9e3032383ecb554034e7c9  90 non-null     int64  \n",
      " 33  LandingPad_5e9e3032383ecb6bb234e7ca  90 non-null     int64  \n",
      " 34  LandingPad_5e9e3032383ecb761634e7cb  90 non-null     int64  \n",
      " 35  LandingPad_5e9e3033383ecbb9e534e7cc  90 non-null     int64  \n",
      " 36  Serial_B0003                         90 non-null     int64  \n",
      " 37  Serial_B0005                         90 non-null     int64  \n",
      " 38  Serial_B0007                         90 non-null     int64  \n",
      " 39  Serial_B1003                         90 non-null     int64  \n",
      " 40  Serial_B1004                         90 non-null     int64  \n",
      " 41  Serial_B1005                         90 non-null     int64  \n",
      " 42  Serial_B1006                         90 non-null     int64  \n",
      " 43  Serial_B1007                         90 non-null     int64  \n",
      " 44  Serial_B1008                         90 non-null     int64  \n",
      " 45  Serial_B1010                         90 non-null     int64  \n",
      " 46  Serial_B1011                         90 non-null     int64  \n",
      " 47  Serial_B1012                         90 non-null     int64  \n",
      " 48  Serial_B1013                         90 non-null     int64  \n",
      " 49  Serial_B1015                         90 non-null     int64  \n",
      " 50  Serial_B1016                         90 non-null     int64  \n",
      " 51  Serial_B1017                         90 non-null     int64  \n",
      " 52  Serial_B1018                         90 non-null     int64  \n",
      " 53  Serial_B1019                         90 non-null     int64  \n",
      " 54  Serial_B1020                         90 non-null     int64  \n",
      " 55  Serial_B1021                         90 non-null     int64  \n",
      " 56  Serial_B1022                         90 non-null     int64  \n",
      " 57  Serial_B1023                         90 non-null     int64  \n",
      " 58  Serial_B1025                         90 non-null     int64  \n",
      " 59  Serial_B1026                         90 non-null     int64  \n",
      " 60  Serial_B1028                         90 non-null     int64  \n",
      " 61  Serial_B1029                         90 non-null     int64  \n",
      " 62  Serial_B1030                         90 non-null     int64  \n",
      " 63  Serial_B1031                         90 non-null     int64  \n",
      " 64  Serial_B1032                         90 non-null     int64  \n",
      " 65  Serial_B1034                         90 non-null     int64  \n",
      " 66  Serial_B1035                         90 non-null     int64  \n",
      " 67  Serial_B1036                         90 non-null     int64  \n",
      " 68  Serial_B1037                         90 non-null     int64  \n",
      " 69  Serial_B1038                         90 non-null     int64  \n",
      " 70  Serial_B1039                         90 non-null     int64  \n",
      " 71  Serial_B1040                         90 non-null     int64  \n",
      " 72  Serial_B1041                         90 non-null     int64  \n",
      " 73  Serial_B1042                         90 non-null     int64  \n",
      " 74  Serial_B1043                         90 non-null     int64  \n",
      " 75  Serial_B1044                         90 non-null     int64  \n",
      " 76  Serial_B1045                         90 non-null     int64  \n",
      " 77  Serial_B1046                         90 non-null     int64  \n",
      " 78  Serial_B1047                         90 non-null     int64  \n",
      " 79  Serial_B1048                         90 non-null     int64  \n",
      " 80  Serial_B1049                         90 non-null     int64  \n",
      " 81  Serial_B1050                         90 non-null     int64  \n",
      " 82  Serial_B1051                         90 non-null     int64  \n",
      " 83  Serial_B1054                         90 non-null     int64  \n",
      " 84  Serial_B1056                         90 non-null     int64  \n",
      " 85  Serial_B1058                         90 non-null     int64  \n",
      " 86  Serial_B1059                         90 non-null     int64  \n",
      " 87  Serial_B1060                         90 non-null     int64  \n",
      " 88  Serial_B1062                         90 non-null     int64  \n",
      "dtypes: float64(2), int64(87)\n",
      "memory usage: 62.7 KB\n"
     ]
    }
   ],
   "source": [
    "df=pd.read_csv('preprocessed_dataset.csv')\n",
    "df.info()"
   ]
  },
  {
   "cell_type": "code",
   "execution_count": 4,
   "metadata": {},
   "outputs": [],
   "source": [
    "x=df.drop(\"Class\",axis=1)\n",
    "y=df[\"Class\"]\n"
   ]
  },
  {
   "cell_type": "code",
   "execution_count": 5,
   "metadata": {},
   "outputs": [],
   "source": [
    "x_train,x_test,y_train,y_test=train_test_split(x,y,test_size=0.20,random_state=101)"
   ]
  },
  {
   "cell_type": "code",
   "execution_count": 6,
   "metadata": {},
   "outputs": [],
   "source": [
    "from sklearn.linear_model import LogisticRegression"
   ]
  },
  {
   "cell_type": "code",
   "execution_count": 7,
   "metadata": {},
   "outputs": [
    {
     "name": "stderr",
     "output_type": "stream",
     "text": [
      "C:\\Users\\Program1\\AppData\\Local\\Packages\\PythonSoftwareFoundation.Python.3.10_qbz5n2kfra8p0\\LocalCache\\local-packages\\Python310\\site-packages\\sklearn\\linear_model\\_logistic.py:458: ConvergenceWarning: lbfgs failed to converge (status=1):\n",
      "STOP: TOTAL NO. of ITERATIONS REACHED LIMIT.\n",
      "\n",
      "Increase the number of iterations (max_iter) or scale the data as shown in:\n",
      "    https://scikit-learn.org/stable/modules/preprocessing.html\n",
      "Please also refer to the documentation for alternative solver options:\n",
      "    https://scikit-learn.org/stable/modules/linear_model.html#logistic-regression\n",
      "  n_iter_i = _check_optimize_result(\n"
     ]
    },
    {
     "data": {
      "text/html": [
       "<style>#sk-container-id-1 {color: black;background-color: white;}#sk-container-id-1 pre{padding: 0;}#sk-container-id-1 div.sk-toggleable {background-color: white;}#sk-container-id-1 label.sk-toggleable__label {cursor: pointer;display: block;width: 100%;margin-bottom: 0;padding: 0.3em;box-sizing: border-box;text-align: center;}#sk-container-id-1 label.sk-toggleable__label-arrow:before {content: \"▸\";float: left;margin-right: 0.25em;color: #696969;}#sk-container-id-1 label.sk-toggleable__label-arrow:hover:before {color: black;}#sk-container-id-1 div.sk-estimator:hover label.sk-toggleable__label-arrow:before {color: black;}#sk-container-id-1 div.sk-toggleable__content {max-height: 0;max-width: 0;overflow: hidden;text-align: left;background-color: #f0f8ff;}#sk-container-id-1 div.sk-toggleable__content pre {margin: 0.2em;color: black;border-radius: 0.25em;background-color: #f0f8ff;}#sk-container-id-1 input.sk-toggleable__control:checked~div.sk-toggleable__content {max-height: 200px;max-width: 100%;overflow: auto;}#sk-container-id-1 input.sk-toggleable__control:checked~label.sk-toggleable__label-arrow:before {content: \"▾\";}#sk-container-id-1 div.sk-estimator input.sk-toggleable__control:checked~label.sk-toggleable__label {background-color: #d4ebff;}#sk-container-id-1 div.sk-label input.sk-toggleable__control:checked~label.sk-toggleable__label {background-color: #d4ebff;}#sk-container-id-1 input.sk-hidden--visually {border: 0;clip: rect(1px 1px 1px 1px);clip: rect(1px, 1px, 1px, 1px);height: 1px;margin: -1px;overflow: hidden;padding: 0;position: absolute;width: 1px;}#sk-container-id-1 div.sk-estimator {font-family: monospace;background-color: #f0f8ff;border: 1px dotted black;border-radius: 0.25em;box-sizing: border-box;margin-bottom: 0.5em;}#sk-container-id-1 div.sk-estimator:hover {background-color: #d4ebff;}#sk-container-id-1 div.sk-parallel-item::after {content: \"\";width: 100%;border-bottom: 1px solid gray;flex-grow: 1;}#sk-container-id-1 div.sk-label:hover label.sk-toggleable__label {background-color: #d4ebff;}#sk-container-id-1 div.sk-serial::before {content: \"\";position: absolute;border-left: 1px solid gray;box-sizing: border-box;top: 0;bottom: 0;left: 50%;z-index: 0;}#sk-container-id-1 div.sk-serial {display: flex;flex-direction: column;align-items: center;background-color: white;padding-right: 0.2em;padding-left: 0.2em;position: relative;}#sk-container-id-1 div.sk-item {position: relative;z-index: 1;}#sk-container-id-1 div.sk-parallel {display: flex;align-items: stretch;justify-content: center;background-color: white;position: relative;}#sk-container-id-1 div.sk-item::before, #sk-container-id-1 div.sk-parallel-item::before {content: \"\";position: absolute;border-left: 1px solid gray;box-sizing: border-box;top: 0;bottom: 0;left: 50%;z-index: -1;}#sk-container-id-1 div.sk-parallel-item {display: flex;flex-direction: column;z-index: 1;position: relative;background-color: white;}#sk-container-id-1 div.sk-parallel-item:first-child::after {align-self: flex-end;width: 50%;}#sk-container-id-1 div.sk-parallel-item:last-child::after {align-self: flex-start;width: 50%;}#sk-container-id-1 div.sk-parallel-item:only-child::after {width: 0;}#sk-container-id-1 div.sk-dashed-wrapped {border: 1px dashed gray;margin: 0 0.4em 0.5em 0.4em;box-sizing: border-box;padding-bottom: 0.4em;background-color: white;}#sk-container-id-1 div.sk-label label {font-family: monospace;font-weight: bold;display: inline-block;line-height: 1.2em;}#sk-container-id-1 div.sk-label-container {text-align: center;}#sk-container-id-1 div.sk-container {/* jupyter's `normalize.less` sets `[hidden] { display: none; }` but bootstrap.min.css set `[hidden] { display: none !important; }` so we also need the `!important` here to be able to override the default hidden behavior on the sphinx rendered scikit-learn.org. See: https://github.com/scikit-learn/scikit-learn/issues/21755 */display: inline-block !important;position: relative;}#sk-container-id-1 div.sk-text-repr-fallback {display: none;}</style><div id=\"sk-container-id-1\" class=\"sk-top-container\"><div class=\"sk-text-repr-fallback\"><pre>LogisticRegression()</pre><b>In a Jupyter environment, please rerun this cell to show the HTML representation or trust the notebook. <br />On GitHub, the HTML representation is unable to render, please try loading this page with nbviewer.org.</b></div><div class=\"sk-container\" hidden><div class=\"sk-item\"><div class=\"sk-estimator sk-toggleable\"><input class=\"sk-toggleable__control sk-hidden--visually\" id=\"sk-estimator-id-1\" type=\"checkbox\" checked><label for=\"sk-estimator-id-1\" class=\"sk-toggleable__label sk-toggleable__label-arrow\">LogisticRegression</label><div class=\"sk-toggleable__content\"><pre>LogisticRegression()</pre></div></div></div></div></div>"
      ],
      "text/plain": [
       "LogisticRegression()"
      ]
     },
     "execution_count": 7,
     "metadata": {},
     "output_type": "execute_result"
    }
   ],
   "source": [
    "logmodel=LogisticRegression()\n",
    "logmodel.fit(x_train,y_train)"
   ]
  },
  {
   "cell_type": "code",
   "execution_count": 8,
   "metadata": {},
   "outputs": [
    {
     "data": {
      "text/plain": [
       "array([0, 0, 0, 1, 1, 1, 1, 1, 1, 1, 1, 0, 0, 0, 0, 1, 0, 1], dtype=int64)"
      ]
     },
     "execution_count": 8,
     "metadata": {},
     "output_type": "execute_result"
    }
   ],
   "source": [
    "predictions=logmodel.predict(x_test)\n",
    "predictions"
   ]
  },
  {
   "cell_type": "code",
   "execution_count": 9,
   "metadata": {},
   "outputs": [
    {
     "data": {
      "text/plain": [
       "array([[ 7,  0],\n",
       "       [ 1, 10]], dtype=int64)"
      ]
     },
     "execution_count": 9,
     "metadata": {},
     "output_type": "execute_result"
    }
   ],
   "source": [
    "from sklearn.metrics import confusion_matrix\n",
    "confusion_matrix(y_test,predictions)"
   ]
  },
  {
   "cell_type": "code",
   "execution_count": 10,
   "metadata": {},
   "outputs": [],
   "source": [
    "from sklearn.metrics import accuracy_score"
   ]
  },
  {
   "cell_type": "code",
   "execution_count": 11,
   "metadata": {},
   "outputs": [
    {
     "data": {
      "text/plain": [
       "0.9444444444444444"
      ]
     },
     "execution_count": 11,
     "metadata": {},
     "output_type": "execute_result"
    }
   ],
   "source": [
    "accuracy_score(y_test,predictions,normalize=True)"
   ]
  },
  {
   "cell_type": "code",
   "execution_count": 12,
   "metadata": {},
   "outputs": [],
   "source": [
    "from sklearn.metrics import classification_report"
   ]
  },
  {
   "cell_type": "code",
   "execution_count": 13,
   "metadata": {},
   "outputs": [
    {
     "name": "stdout",
     "output_type": "stream",
     "text": [
      "              precision    recall  f1-score   support\n",
      "\n",
      "           0       0.88      1.00      0.93         7\n",
      "           1       1.00      0.91      0.95        11\n",
      "\n",
      "    accuracy                           0.94        18\n",
      "   macro avg       0.94      0.95      0.94        18\n",
      "weighted avg       0.95      0.94      0.94        18\n",
      "\n"
     ]
    }
   ],
   "source": [
    "print(classification_report(y_test,predictions))"
   ]
  }
 ],
 "metadata": {
  "kernelspec": {
   "display_name": "Python 3",
   "language": "python",
   "name": "python3"
  },
  "language_info": {
   "codemirror_mode": {
    "name": "ipython",
    "version": 3
   },
   "file_extension": ".py",
   "mimetype": "text/x-python",
   "name": "python",
   "nbconvert_exporter": "python",
   "pygments_lexer": "ipython3",
   "version": "3.10.10"
  },
  "orig_nbformat": 4,
  "vscode": {
   "interpreter": {
    "hash": "294c32416b078b039d4de926890a28f9c3667030fc94523ab9595b7445781a55"
   }
  }
 },
 "nbformat": 4,
 "nbformat_minor": 2
}
