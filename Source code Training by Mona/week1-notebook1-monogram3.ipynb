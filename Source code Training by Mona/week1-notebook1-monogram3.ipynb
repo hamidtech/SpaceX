{
 "cells": [
  {
   "cell_type": "markdown",
   "metadata": {
    "id": "vq3how8TLBTi"
   },
   "source": [
    "\n",
    "# dataroadmap, monogram_1, Week_1\n",
    "# تمرین هفته اول -آشنایی با پایتون \n",
    "\n",
    "\n",
    "* Data types\n",
    "    * Numbers\n",
    "    * Strings\n",
    "    * Printing\n",
    "    * Lists"
   ]
  },
  {
   "cell_type": "markdown",
   "metadata": {
    "id": "OCE4bZ0NLBTo"
   },
   "source": [
    "## Data types\n",
    "\n",
    "### Numbers\n",
    "\n",
    "### دستورات زیر را با فشردن همزمان کلید شیفت اینتر اجرا کنید"
   ]
  },
  {
   "cell_type": "code",
   "execution_count": 1,
   "metadata": {
    "executionInfo": {
     "elapsed": 374,
     "status": "ok",
     "timestamp": 1674501051434,
     "user": {
      "displayName": "Moones Fallah",
      "userId": "00329903373398097609"
     },
     "user_tz": -210
    },
    "id": "bh91mLt7LBTp"
   },
   "outputs": [],
   "source": [
    "a=5"
   ]
  },
  {
   "cell_type": "code",
   "execution_count": 2,
   "metadata": {
    "colab": {
     "base_uri": "https://localhost:8080/"
    },
    "executionInfo": {
     "elapsed": 452,
     "status": "ok",
     "timestamp": 1674501063446,
     "user": {
      "displayName": "Moones Fallah",
      "userId": "00329903373398097609"
     },
     "user_tz": -210
    },
    "id": "_8pVd-jhLBTr",
    "outputId": "984ad3cc-a9ec-4dab-d1e6-562004881c56"
   },
   "outputs": [
    {
     "name": "stdout",
     "output_type": "stream",
     "text": [
      "5\n"
     ]
    }
   ],
   "source": [
    "print(a)"
   ]
  },
  {
   "cell_type": "code",
   "execution_count": 3,
   "metadata": {
    "colab": {
     "base_uri": "https://localhost:8080/"
    },
    "executionInfo": {
     "elapsed": 1565,
     "status": "ok",
     "timestamp": 1674505112854,
     "user": {
      "displayName": "Moones Fallah",
      "userId": "00329903373398097609"
     },
     "user_tz": -210
    },
    "id": "2eTMYSoXLBTs",
    "outputId": "fc789995-7b75-4250-fa0a-811db7dc551f"
   },
   "outputs": [
    {
     "data": {
      "text/plain": [
       "2"
      ]
     },
     "execution_count": 3,
     "metadata": {},
     "output_type": "execute_result"
    }
   ],
   "source": [
    "1 + 1"
   ]
  },
  {
   "cell_type": "code",
   "execution_count": 4,
   "metadata": {
    "colab": {
     "base_uri": "https://localhost:8080/"
    },
    "executionInfo": {
     "elapsed": 638,
     "status": "ok",
     "timestamp": 1674505118505,
     "user": {
      "displayName": "Moones Fallah",
      "userId": "00329903373398097609"
     },
     "user_tz": -210
    },
    "id": "4h-qg2u2LBTt",
    "outputId": "f99c35f2-22fa-4256-f4ff-33fed0241099"
   },
   "outputs": [
    {
     "data": {
      "text/plain": [
       "3"
      ]
     },
     "execution_count": 4,
     "metadata": {},
     "output_type": "execute_result"
    }
   ],
   "source": [
    "1 * 3"
   ]
  },
  {
   "cell_type": "code",
   "execution_count": 5,
   "metadata": {
    "colab": {
     "base_uri": "https://localhost:8080/"
    },
    "executionInfo": {
     "elapsed": 637,
     "status": "ok",
     "timestamp": 1674505127741,
     "user": {
      "displayName": "Moones Fallah",
      "userId": "00329903373398097609"
     },
     "user_tz": -210
    },
    "id": "OwDSpnIzLBTt",
    "outputId": "adfa5b94-66e4-4b4d-cca4-03f22124c7ee"
   },
   "outputs": [
    {
     "data": {
      "text/plain": [
       "0.5"
      ]
     },
     "execution_count": 5,
     "metadata": {},
     "output_type": "execute_result"
    }
   ],
   "source": [
    "1 / 2"
   ]
  },
  {
   "cell_type": "code",
   "execution_count": 6,
   "metadata": {
    "colab": {
     "base_uri": "https://localhost:8080/"
    },
    "executionInfo": {
     "elapsed": 696,
     "status": "ok",
     "timestamp": 1674505132242,
     "user": {
      "displayName": "Moones Fallah",
      "userId": "00329903373398097609"
     },
     "user_tz": -210
    },
    "id": "SINi8XwxLBTu",
    "outputId": "2cf23e37-d4f8-45f4-a8e9-9185fdf1a464"
   },
   "outputs": [
    {
     "data": {
      "text/plain": [
       "16"
      ]
     },
     "execution_count": 6,
     "metadata": {},
     "output_type": "execute_result"
    }
   ],
   "source": [
    "2 ** 4"
   ]
  },
  {
   "cell_type": "code",
   "execution_count": 7,
   "metadata": {
    "executionInfo": {
     "elapsed": 688,
     "status": "ok",
     "timestamp": 1674505147645,
     "user": {
      "displayName": "Moones Fallah",
      "userId": "00329903373398097609"
     },
     "user_tz": -210
    },
    "id": "6SsfiWJVLBTu"
   },
   "outputs": [],
   "source": [
    "a=30"
   ]
  },
  {
   "cell_type": "code",
   "execution_count": 8,
   "metadata": {
    "colab": {
     "base_uri": "https://localhost:8080/"
    },
    "executionInfo": {
     "elapsed": 648,
     "status": "ok",
     "timestamp": 1674505150398,
     "user": {
      "displayName": "Moones Fallah",
      "userId": "00329903373398097609"
     },
     "user_tz": -210
    },
    "id": "uuhrRQ8OLBTv",
    "outputId": "25dfaed8-648c-45cf-e090-3a34d3459e0c"
   },
   "outputs": [
    {
     "data": {
      "text/plain": [
       "30"
      ]
     },
     "execution_count": 8,
     "metadata": {},
     "output_type": "execute_result"
    }
   ],
   "source": [
    "a"
   ]
  },
  {
   "cell_type": "code",
   "execution_count": 9,
   "metadata": {
    "colab": {
     "base_uri": "https://localhost:8080/"
    },
    "executionInfo": {
     "elapsed": 729,
     "status": "ok",
     "timestamp": 1674505155192,
     "user": {
      "displayName": "Moones Fallah",
      "userId": "00329903373398097609"
     },
     "user_tz": -210
    },
    "id": "rKWZ3omELBTw",
    "outputId": "a3656e0e-30ae-41a4-deae-ae2da36f04d2"
   },
   "outputs": [
    {
     "data": {
      "text/plain": [
       "0"
      ]
     },
     "execution_count": 9,
     "metadata": {},
     "output_type": "execute_result"
    }
   ],
   "source": [
    "4 % 2"
   ]
  },
  {
   "cell_type": "code",
   "execution_count": 10,
   "metadata": {
    "colab": {
     "base_uri": "https://localhost:8080/"
    },
    "executionInfo": {
     "elapsed": 710,
     "status": "ok",
     "timestamp": 1674505161467,
     "user": {
      "displayName": "Moones Fallah",
      "userId": "00329903373398097609"
     },
     "user_tz": -210
    },
    "id": "mOCbdk67LBTx",
    "outputId": "ff1d76fe-0544-4009-98c4-97af123d6a8c"
   },
   "outputs": [
    {
     "data": {
      "text/plain": [
       "2.5"
      ]
     },
     "execution_count": 10,
     "metadata": {},
     "output_type": "execute_result"
    }
   ],
   "source": [
    "5 / 2"
   ]
  },
  {
   "cell_type": "code",
   "execution_count": 11,
   "metadata": {
    "colab": {
     "base_uri": "https://localhost:8080/"
    },
    "executionInfo": {
     "elapsed": 628,
     "status": "ok",
     "timestamp": 1674505169863,
     "user": {
      "displayName": "Moones Fallah",
      "userId": "00329903373398097609"
     },
     "user_tz": -210
    },
    "id": "DYAHO0GQLBTy",
    "outputId": "46e22f73-caee-4e8c-f9bd-b402d82631ab"
   },
   "outputs": [
    {
     "data": {
      "text/plain": [
       "1"
      ]
     },
     "execution_count": 11,
     "metadata": {},
     "output_type": "execute_result"
    }
   ],
   "source": [
    "5 % 2"
   ]
  },
  {
   "cell_type": "code",
   "execution_count": 12,
   "metadata": {
    "colab": {
     "base_uri": "https://localhost:8080/"
    },
    "executionInfo": {
     "elapsed": 497,
     "status": "ok",
     "timestamp": 1674505173343,
     "user": {
      "displayName": "Moones Fallah",
      "userId": "00329903373398097609"
     },
     "user_tz": -210
    },
    "id": "WtnGceUWLBTy",
    "outputId": "25d00503-1b67-4c6b-810a-bf1b8ec5380a"
   },
   "outputs": [
    {
     "data": {
      "text/plain": [
       "2"
      ]
     },
     "execution_count": 12,
     "metadata": {},
     "output_type": "execute_result"
    }
   ],
   "source": [
    "5 // 2 "
   ]
  },
  {
   "cell_type": "markdown",
   "metadata": {
    "id": "w8MC0I2eLBTz"
   },
   "source": [
    "#  :سوال \n",
    "# 5%2 = 1???"
   ]
  },
  {
   "cell_type": "code",
   "execution_count": 13,
   "metadata": {},
   "outputs": [
    {
     "data": {
      "text/plain": [
       "1"
      ]
     },
     "execution_count": 13,
     "metadata": {},
     "output_type": "execute_result"
    }
   ],
   "source": [
    "5%2"
   ]
  },
  {
   "cell_type": "markdown",
   "metadata": {
    "id": "vLGs9hVsLBT0"
   },
   "source": [
    "جواب را در این قسمت وارد کنید"
   ]
  },
  {
   "cell_type": "markdown",
   "metadata": {
    "id": "h51Y38bDLBT1"
   },
   "source": [
    "# ***"
   ]
  },
  {
   "cell_type": "code",
   "execution_count": 14,
   "metadata": {
    "colab": {
     "base_uri": "https://localhost:8080/"
    },
    "executionInfo": {
     "elapsed": 452,
     "status": "ok",
     "timestamp": 1674505365578,
     "user": {
      "displayName": "Moones Fallah",
      "userId": "00329903373398097609"
     },
     "user_tz": -210
    },
    "id": "I-NrL1IALBT1",
    "outputId": "393c29bc-d22e-472d-8dca-7dcea2a72d60"
   },
   "outputs": [
    {
     "data": {
      "text/plain": [
       "50"
      ]
     },
     "execution_count": 14,
     "metadata": {},
     "output_type": "execute_result"
    }
   ],
   "source": [
    "(2 + 3) * (5 + 5)"
   ]
  },
  {
   "cell_type": "markdown",
   "metadata": {
    "id": "vK8-UwmxLBT2"
   },
   "source": [
    "### Variable Assignment"
   ]
  },
  {
   "cell_type": "markdown",
   "metadata": {
    "id": "2EXiU_xMLBT2"
   },
   "source": [
    "Python Variable Names:\n",
    "A variable name must start with a letter or the underscore character.\n",
    "A variable name cannot start with a number.\n",
    "A variable name can only contain alpha-numeric characters and underscores (A-z, 0-9, and _ )\n",
    "Variable names are case-sensitive (age, Age and AGE are three different variables)"
   ]
  },
  {
   "cell_type": "code",
   "execution_count": 15,
   "metadata": {
    "executionInfo": {
     "elapsed": 443,
     "status": "ok",
     "timestamp": 1674505764584,
     "user": {
      "displayName": "Moones Fallah",
      "userId": "00329903373398097609"
     },
     "user_tz": -210
    },
    "id": "O697ijg1LBT3"
   },
   "outputs": [],
   "source": [
    "# Can not start with number or special characters\n",
    "name_of_var = 2"
   ]
  },
  {
   "cell_type": "code",
   "execution_count": 16,
   "metadata": {
    "executionInfo": {
     "elapsed": 437,
     "status": "ok",
     "timestamp": 1674505774374,
     "user": {
      "displayName": "Moones Fallah",
      "userId": "00329903373398097609"
     },
     "user_tz": -210
    },
    "id": "c_E2J4pHLBT3"
   },
   "outputs": [],
   "source": [
    "x = 2\n",
    "y = 3"
   ]
  },
  {
   "cell_type": "code",
   "execution_count": 17,
   "metadata": {
    "executionInfo": {
     "elapsed": 553,
     "status": "ok",
     "timestamp": 1674505779068,
     "user": {
      "displayName": "Moones Fallah",
      "userId": "00329903373398097609"
     },
     "user_tz": -210
    },
    "id": "j6uyo5evLBT4"
   },
   "outputs": [],
   "source": [
    "z = x + y"
   ]
  },
  {
   "cell_type": "code",
   "execution_count": 18,
   "metadata": {
    "colab": {
     "base_uri": "https://localhost:8080/"
    },
    "executionInfo": {
     "elapsed": 460,
     "status": "ok",
     "timestamp": 1674505788722,
     "user": {
      "displayName": "Moones Fallah",
      "userId": "00329903373398097609"
     },
     "user_tz": -210
    },
    "id": "AjaFSYmmLBT4",
    "outputId": "d0d75344-e157-4078-8229-57ecb7463ebc"
   },
   "outputs": [
    {
     "data": {
      "text/plain": [
       "5"
      ]
     },
     "execution_count": 18,
     "metadata": {},
     "output_type": "execute_result"
    }
   ],
   "source": [
    "z"
   ]
  },
  {
   "cell_type": "markdown",
   "metadata": {
    "id": "dmmKjrGaLBT4"
   },
   "source": [
    "### Strings\n",
    "رشته‌ها در پایتون را می‌توان با قرار دادن کاراکترها در\n",
    " میان جفت نقل قول تک انگلیسی (”) یا جفت نقل قول\n",
    " جفت انگلیسی (“”) ساخت "
   ]
  },
  {
   "cell_type": "code",
   "execution_count": 19,
   "metadata": {
    "colab": {
     "base_uri": "https://localhost:8080/",
     "height": 35
    },
    "executionInfo": {
     "elapsed": 650,
     "status": "ok",
     "timestamp": 1674505799540,
     "user": {
      "displayName": "Moones Fallah",
      "userId": "00329903373398097609"
     },
     "user_tz": -210
    },
    "id": "AxN8WDUuLBT5",
    "outputId": "3496b03a-5db3-4ac9-efc0-3230b3b08336"
   },
   "outputs": [
    {
     "data": {
      "text/plain": [
       "'single quotes'"
      ]
     },
     "execution_count": 19,
     "metadata": {},
     "output_type": "execute_result"
    }
   ],
   "source": [
    "'single quotes'"
   ]
  },
  {
   "cell_type": "code",
   "execution_count": 20,
   "metadata": {
    "colab": {
     "base_uri": "https://localhost:8080/",
     "height": 35
    },
    "executionInfo": {
     "elapsed": 667,
     "status": "ok",
     "timestamp": 1674505802349,
     "user": {
      "displayName": "Moones Fallah",
      "userId": "00329903373398097609"
     },
     "user_tz": -210
    },
    "id": "dECtNJhcLBT5",
    "outputId": "f76780f1-4f50-416c-e9df-bde620c0a1c7"
   },
   "outputs": [
    {
     "data": {
      "text/plain": [
       "'double quotes'"
      ]
     },
     "execution_count": 20,
     "metadata": {},
     "output_type": "execute_result"
    }
   ],
   "source": [
    "\"double quotes\""
   ]
  },
  {
   "cell_type": "code",
   "execution_count": 21,
   "metadata": {
    "colab": {
     "base_uri": "https://localhost:8080/",
     "height": 35
    },
    "executionInfo": {
     "elapsed": 532,
     "status": "ok",
     "timestamp": 1674505807658,
     "user": {
      "displayName": "Moones Fallah",
      "userId": "00329903373398097609"
     },
     "user_tz": -210
    },
    "id": "hFjV9mQQLBT5",
    "outputId": "e54fef26-68b4-44f9-ed48-87d443f925e1"
   },
   "outputs": [
    {
     "data": {
      "text/plain": [
       "\" wrap lot's of other quotes\""
      ]
     },
     "execution_count": 21,
     "metadata": {},
     "output_type": "execute_result"
    }
   ],
   "source": [
    "\" wrap lot's of other quotes\""
   ]
  },
  {
   "cell_type": "markdown",
   "metadata": {
    "id": "HBTjCnl9LBT6"
   },
   "source": [
    "# تمرین:\n",
    "یک رشته با شش کاراکتر ساخته و به یک متغییر دلخواه نسبت دهید؟ "
   ]
  },
  {
   "cell_type": "code",
   "execution_count": 22,
   "metadata": {},
   "outputs": [],
   "source": [
    "class_uni=['Shami','Danesh', 'Data']"
   ]
  },
  {
   "cell_type": "code",
   "execution_count": 23,
   "metadata": {},
   "outputs": [
    {
     "data": {
      "text/plain": [
       "'Danesh'"
      ]
     },
     "execution_count": 23,
     "metadata": {},
     "output_type": "execute_result"
    }
   ],
   "source": [
    "class_uni[-2]"
   ]
  },
  {
   "cell_type": "code",
   "execution_count": 24,
   "metadata": {
    "colab": {
     "base_uri": "https://localhost:8080/",
     "height": 35
    },
    "executionInfo": {
     "elapsed": 479,
     "status": "ok",
     "timestamp": 1674506188228,
     "user": {
      "displayName": "Moones Fallah",
      "userId": "00329903373398097609"
     },
     "user_tz": -210
    },
    "id": "bkhVOreEU-MI",
    "outputId": "1189f2ff-001f-4fdc-b861-7c39f62d4949"
   },
   "outputs": [
    {
     "data": {
      "text/plain": [
       "'cross fit'"
      ]
     },
     "execution_count": 24,
     "metadata": {},
     "output_type": "execute_result"
    }
   ],
   "source": [
    "gym=\"yoga\", \"body building\", \"pylates\", \"cross fit\", \"trx\", \"swiming\"\n",
    "gym[3]"
   ]
  },
  {
   "cell_type": "code",
   "execution_count": 25,
   "metadata": {
    "colab": {
     "base_uri": "https://localhost:8080/",
     "height": 35
    },
    "executionInfo": {
     "elapsed": 463,
     "status": "ok",
     "timestamp": 1674506238664,
     "user": {
      "displayName": "Moones Fallah",
      "userId": "00329903373398097609"
     },
     "user_tz": -210
    },
    "id": "K0V1UiWrWT8a",
    "outputId": "9a0dfc93-1f25-4a2c-b224-06f2ddd8b8bd"
   },
   "outputs": [
    {
     "data": {
      "text/plain": [
       "'body building'"
      ]
     },
     "execution_count": 25,
     "metadata": {},
     "output_type": "execute_result"
    }
   ],
   "source": [
    "gym[-5]"
   ]
  },
  {
   "cell_type": "code",
   "execution_count": 26,
   "metadata": {
    "colab": {
     "base_uri": "https://localhost:8080/",
     "height": 35
    },
    "executionInfo": {
     "elapsed": 460,
     "status": "ok",
     "timestamp": 1674506429723,
     "user": {
      "displayName": "Moones Fallah",
      "userId": "00329903373398097609"
     },
     "user_tz": -210
    },
    "id": "hO13Z8agXCih",
    "outputId": "f2e02eb1-6b91-49f9-eace-bdb981346d6f"
   },
   "outputs": [
    {
     "data": {
      "text/plain": [
       "'yoga'"
      ]
     },
     "execution_count": 26,
     "metadata": {},
     "output_type": "execute_result"
    }
   ],
   "source": [
    "gym[-6]"
   ]
  },
  {
   "cell_type": "code",
   "execution_count": 27,
   "metadata": {
    "colab": {
     "base_uri": "https://localhost:8080/"
    },
    "executionInfo": {
     "elapsed": 474,
     "status": "ok",
     "timestamp": 1674506488139,
     "user": {
      "displayName": "Moones Fallah",
      "userId": "00329903373398097609"
     },
     "user_tz": -210
    },
    "id": "uDsl1ZUNXSFb",
    "outputId": "b80d1c90-c330-4f52-f61d-f34cd0753d1a"
   },
   "outputs": [
    {
     "data": {
      "text/plain": [
       "('cross fit', 'trx', 'swiming')"
      ]
     },
     "execution_count": 27,
     "metadata": {},
     "output_type": "execute_result"
    }
   ],
   "source": [
    "gym[-3:]"
   ]
  },
  {
   "cell_type": "code",
   "execution_count": 28,
   "metadata": {
    "colab": {
     "base_uri": "https://localhost:8080/"
    },
    "executionInfo": {
     "elapsed": 445,
     "status": "ok",
     "timestamp": 1674506462895,
     "user": {
      "displayName": "Moones Fallah",
      "userId": "00329903373398097609"
     },
     "user_tz": -210
    },
    "id": "WEiWaffOXKLj",
    "outputId": "1365756d-5749-4f68-a83e-2a55982d9e2b"
   },
   "outputs": [
    {
     "data": {
      "text/plain": [
       "('swiming',)"
      ]
     },
     "execution_count": 28,
     "metadata": {},
     "output_type": "execute_result"
    }
   ],
   "source": [
    "gym[-1:]"
   ]
  },
  {
   "cell_type": "code",
   "execution_count": 29,
   "metadata": {
    "executionInfo": {
     "elapsed": 474,
     "status": "ok",
     "timestamp": 1674506256962,
     "user": {
      "displayName": "Moones Fallah",
      "userId": "00329903373398097609"
     },
     "user_tz": -210
    },
    "id": "XdbeqnPWLBT6"
   },
   "outputs": [],
   "source": [
    "nyk=\"pharma\""
   ]
  },
  {
   "cell_type": "markdown",
   "metadata": {
    "id": "AnBFT9stLBT6"
   },
   "source": [
    "# مثال:"
   ]
  },
  {
   "cell_type": "code",
   "execution_count": 30,
   "metadata": {
    "colab": {
     "base_uri": "https://localhost:8080/",
     "height": 35
    },
    "executionInfo": {
     "elapsed": 16,
     "status": "ok",
     "timestamp": 1674506258704,
     "user": {
      "displayName": "Moones Fallah",
      "userId": "00329903373398097609"
     },
     "user_tz": -210
    },
    "id": "esVZX1V8LBT6",
    "outputId": "6ae132fe-3390-4335-ce14-fc1791edda6b"
   },
   "outputs": [
    {
     "data": {
      "text/plain": [
       "'a'"
      ]
     },
     "execution_count": 30,
     "metadata": {},
     "output_type": "execute_result"
    }
   ],
   "source": [
    "a=\"dataro\"\n",
    "a[3]"
   ]
  },
  {
   "cell_type": "code",
   "execution_count": 31,
   "metadata": {
    "colab": {
     "base_uri": "https://localhost:8080/",
     "height": 35
    },
    "executionInfo": {
     "elapsed": 14,
     "status": "ok",
     "timestamp": 1674506259407,
     "user": {
      "displayName": "Moones Fallah",
      "userId": "00329903373398097609"
     },
     "user_tz": -210
    },
    "id": "tEuC9y2RLBT6",
    "outputId": "ba644a71-9a45-415c-ac73-23669fd37bfc"
   },
   "outputs": [
    {
     "data": {
      "text/plain": [
       "'a'"
      ]
     },
     "execution_count": 31,
     "metadata": {},
     "output_type": "execute_result"
    }
   ],
   "source": [
    "a[-5]"
   ]
  },
  {
   "cell_type": "code",
   "execution_count": 32,
   "metadata": {
    "colab": {
     "base_uri": "https://localhost:8080/",
     "height": 35
    },
    "executionInfo": {
     "elapsed": 16,
     "status": "ok",
     "timestamp": 1674506259960,
     "user": {
      "displayName": "Moones Fallah",
      "userId": "00329903373398097609"
     },
     "user_tz": -210
    },
    "id": "SWDBgz8hLBT7",
    "outputId": "7f8e5453-50fd-4b06-c8ef-53f8812ebda6"
   },
   "outputs": [
    {
     "data": {
      "text/plain": [
       "'data'"
      ]
     },
     "execution_count": 32,
     "metadata": {},
     "output_type": "execute_result"
    }
   ],
   "source": [
    "a[:4]"
   ]
  },
  {
   "cell_type": "code",
   "execution_count": 33,
   "metadata": {
    "executionInfo": {
     "elapsed": 6,
     "status": "ok",
     "timestamp": 1674506261695,
     "user": {
      "displayName": "Moones Fallah",
      "userId": "00329903373398097609"
     },
     "user_tz": -210
    },
    "id": "mm9CtbOKLBT7"
   },
   "outputs": [],
   "source": [
    "date=\"1400-0105\""
   ]
  },
  {
   "cell_type": "code",
   "execution_count": 34,
   "metadata": {
    "colab": {
     "base_uri": "https://localhost:8080/",
     "height": 35
    },
    "executionInfo": {
     "elapsed": 635,
     "status": "ok",
     "timestamp": 1674506278846,
     "user": {
      "displayName": "Moones Fallah",
      "userId": "00329903373398097609"
     },
     "user_tz": -210
    },
    "id": "_HsNt-MxLBT7",
    "outputId": "9a7ac414-bbbd-4506-f145-2c53d2447cb2"
   },
   "outputs": [
    {
     "data": {
      "text/plain": [
       "'05'"
      ]
     },
     "execution_count": 34,
     "metadata": {},
     "output_type": "execute_result"
    }
   ],
   "source": [
    "date[-2:]"
   ]
  },
  {
   "cell_type": "code",
   "execution_count": 35,
   "metadata": {
    "colab": {
     "base_uri": "https://localhost:8080/",
     "height": 35
    },
    "executionInfo": {
     "elapsed": 472,
     "status": "ok",
     "timestamp": 1674506315832,
     "user": {
      "displayName": "Moones Fallah",
      "userId": "00329903373398097609"
     },
     "user_tz": -210
    },
    "id": "9uzd_GlbLBT7",
    "outputId": "64073f63-1139-4ec5-8a5e-39a96dc1221c"
   },
   "outputs": [
    {
     "data": {
      "text/plain": [
       "'105'"
      ]
     },
     "execution_count": 35,
     "metadata": {},
     "output_type": "execute_result"
    }
   ],
   "source": [
    "date[6:]"
   ]
  },
  {
   "cell_type": "markdown",
   "metadata": {
    "id": "ohDmGJLULBT8"
   },
   "source": [
    "\n",
    "# شما هم با متغییری که ساخته اید مثل بالا عمل کنید و اعداد مختلفی امتحان کنید و خروجی بگیرید \n",
    "چه نتیجه ای میگیرید؟\n"
   ]
  },
  {
   "cell_type": "code",
   "execution_count": 36,
   "metadata": {
    "colab": {
     "base_uri": "https://localhost:8080/",
     "height": 35
    },
    "executionInfo": {
     "elapsed": 452,
     "status": "ok",
     "timestamp": 1674506529127,
     "user": {
      "displayName": "Moones Fallah",
      "userId": "00329903373398097609"
     },
     "user_tz": -210
    },
    "id": "7uy6f-w62PYE",
    "outputId": "d3c015cb-1832-455f-daf3-5b92f1f76ccb"
   },
   "outputs": [
    {
     "data": {
      "text/plain": [
       "'h'"
      ]
     },
     "execution_count": 36,
     "metadata": {},
     "output_type": "execute_result"
    }
   ],
   "source": [
    "a=\"pharma\"\n",
    "a[1]"
   ]
  },
  {
   "cell_type": "code",
   "execution_count": 37,
   "metadata": {
    "colab": {
     "base_uri": "https://localhost:8080/",
     "height": 35
    },
    "executionInfo": {
     "elapsed": 576,
     "status": "ok",
     "timestamp": 1674506542326,
     "user": {
      "displayName": "Moones Fallah",
      "userId": "00329903373398097609"
     },
     "user_tz": -210
    },
    "id": "dfsqYfLT2gly",
    "outputId": "ef78be9f-4fdf-4b8e-d0e5-81b3c2d06821"
   },
   "outputs": [
    {
     "data": {
      "text/plain": [
       "'r'"
      ]
     },
     "execution_count": 37,
     "metadata": {},
     "output_type": "execute_result"
    }
   ],
   "source": [
    "a[3]"
   ]
  },
  {
   "cell_type": "code",
   "execution_count": 38,
   "metadata": {
    "colab": {
     "base_uri": "https://localhost:8080/",
     "height": 35
    },
    "executionInfo": {
     "elapsed": 16,
     "status": "ok",
     "timestamp": 1674506545781,
     "user": {
      "displayName": "Moones Fallah",
      "userId": "00329903373398097609"
     },
     "user_tz": -210
    },
    "id": "YqBnbhRR2uhP",
    "outputId": "50ca0baa-20e1-4fc5-e32d-f8b406fa5020"
   },
   "outputs": [
    {
     "data": {
      "text/plain": [
       "'r'"
      ]
     },
     "execution_count": 38,
     "metadata": {},
     "output_type": "execute_result"
    }
   ],
   "source": [
    "a[-3]"
   ]
  },
  {
   "cell_type": "code",
   "execution_count": 39,
   "metadata": {
    "colab": {
     "base_uri": "https://localhost:8080/",
     "height": 35
    },
    "executionInfo": {
     "elapsed": 442,
     "status": "ok",
     "timestamp": 1674506549873,
     "user": {
      "displayName": "Moones Fallah",
      "userId": "00329903373398097609"
     },
     "user_tz": -210
    },
    "id": "DO8JXx8C25wo",
    "outputId": "7f2f96a4-608a-40a1-9a47-467321e16498"
   },
   "outputs": [
    {
     "data": {
      "text/plain": [
       "'phar'"
      ]
     },
     "execution_count": 39,
     "metadata": {},
     "output_type": "execute_result"
    }
   ],
   "source": [
    "\n",
    "\n",
    "a[:4]"
   ]
  },
  {
   "cell_type": "code",
   "execution_count": 40,
   "metadata": {
    "colab": {
     "base_uri": "https://localhost:8080/",
     "height": 35
    },
    "executionInfo": {
     "elapsed": 451,
     "status": "ok",
     "timestamp": 1674506668057,
     "user": {
      "displayName": "Moones Fallah",
      "userId": "00329903373398097609"
     },
     "user_tz": -210
    },
    "id": "VAn_QMaCLBT7",
    "outputId": "bb7e727e-25e8-41a8-db21-7f6cb4b10015"
   },
   "outputs": [
    {
     "data": {
      "text/plain": [
       "'arma'"
      ]
     },
     "execution_count": 40,
     "metadata": {},
     "output_type": "execute_result"
    }
   ],
   "source": [
    "a[2:]"
   ]
  },
  {
   "cell_type": "markdown",
   "metadata": {
    "id": "-enIBqFaLBT8"
   },
   "source": [
    "# ***"
   ]
  },
  {
   "cell_type": "markdown",
   "metadata": {
    "id": "sNCGHybuLBT8"
   },
   "source": [
    "### Printing"
   ]
  },
  {
   "cell_type": "code",
   "execution_count": 41,
   "metadata": {
    "executionInfo": {
     "elapsed": 466,
     "status": "ok",
     "timestamp": 1674506687213,
     "user": {
      "displayName": "Moones Fallah",
      "userId": "00329903373398097609"
     },
     "user_tz": -210
    },
    "id": "S6HMbR4ULBT8"
   },
   "outputs": [],
   "source": [
    "x = 'hello'"
   ]
  },
  {
   "cell_type": "code",
   "execution_count": 42,
   "metadata": {
    "colab": {
     "base_uri": "https://localhost:8080/",
     "height": 35
    },
    "executionInfo": {
     "elapsed": 527,
     "status": "ok",
     "timestamp": 1674506689895,
     "user": {
      "displayName": "Moones Fallah",
      "userId": "00329903373398097609"
     },
     "user_tz": -210
    },
    "id": "VxP96H-CLBT8",
    "outputId": "5a5821b9-c91a-4bf9-eed1-235b570cb740"
   },
   "outputs": [
    {
     "data": {
      "text/plain": [
       "'hello'"
      ]
     },
     "execution_count": 42,
     "metadata": {},
     "output_type": "execute_result"
    }
   ],
   "source": [
    "x"
   ]
  },
  {
   "cell_type": "code",
   "execution_count": 43,
   "metadata": {
    "colab": {
     "base_uri": "https://localhost:8080/"
    },
    "executionInfo": {
     "elapsed": 456,
     "status": "ok",
     "timestamp": 1674506693400,
     "user": {
      "displayName": "Moones Fallah",
      "userId": "00329903373398097609"
     },
     "user_tz": -210
    },
    "id": "zf0prOZELBT9",
    "outputId": "e50c4caf-08a6-4127-e690-3da784f138fd"
   },
   "outputs": [
    {
     "name": "stdout",
     "output_type": "stream",
     "text": [
      "hello\n"
     ]
    }
   ],
   "source": [
    "print(x)"
   ]
  },
  {
   "cell_type": "code",
   "execution_count": 44,
   "metadata": {
    "executionInfo": {
     "elapsed": 477,
     "status": "ok",
     "timestamp": 1674506697559,
     "user": {
      "displayName": "Moones Fallah",
      "userId": "00329903373398097609"
     },
     "user_tz": -210
    },
    "id": "v6VcIFIWLBT9"
   },
   "outputs": [],
   "source": [
    "name = \"Sarah\"\n",
    "sender = 'dataroadmap'\n",
    "class_number = 'monogram-2'"
   ]
  },
  {
   "cell_type": "code",
   "execution_count": 45,
   "metadata": {
    "colab": {
     "base_uri": "https://localhost:8080/"
    },
    "executionInfo": {
     "elapsed": 461,
     "status": "ok",
     "timestamp": 1674506723591,
     "user": {
      "displayName": "Moones Fallah",
      "userId": "00329903373398097609"
     },
     "user_tz": -210
    },
    "id": "pqbAmUYGLBT9",
    "outputId": "741e98e9-9e2b-4f50-b7d4-b7910f2d5323"
   },
   "outputs": [
    {
     "name": "stdout",
     "output_type": "stream",
     "text": [
      "Hello Sarah, this email is from dataroadmap , and your class is monogram-2\n"
     ]
    }
   ],
   "source": [
    "print('Hello {}, this email is from {} , and your class is {}'.format(name,sender,class_number))"
   ]
  },
  {
   "cell_type": "markdown",
   "metadata": {
    "id": "8drNBD3uLBT9"
   },
   "source": [
    "### Lists"
   ]
  },
  {
   "cell_type": "markdown",
   "metadata": {
    "id": "cr-HS9kHLBT-"
   },
   "source": [
    "# کدهای زیر را اجرا کرده و در مورد نتایج بدست آمده فکر کنید"
   ]
  },
  {
   "cell_type": "markdown",
   "metadata": {
    "id": "I1cfTleTLBT-"
   },
   "source": [
    "# تمرین-1"
   ]
  },
  {
   "cell_type": "code",
   "execution_count": 46,
   "metadata": {
    "executionInfo": {
     "elapsed": 452,
     "status": "ok",
     "timestamp": 1674506745787,
     "user": {
      "displayName": "Moones Fallah",
      "userId": "00329903373398097609"
     },
     "user_tz": -210
    },
    "id": "uRVKdse6LBT-"
   },
   "outputs": [],
   "source": [
    "lst_1=[1,2,3]"
   ]
  },
  {
   "cell_type": "code",
   "execution_count": 47,
   "metadata": {
    "colab": {
     "base_uri": "https://localhost:8080/"
    },
    "executionInfo": {
     "elapsed": 466,
     "status": "ok",
     "timestamp": 1674506751561,
     "user": {
      "displayName": "Moones Fallah",
      "userId": "00329903373398097609"
     },
     "user_tz": -210
    },
    "id": "YlivtvdsLBT-",
    "outputId": "aa682a76-0b19-47b4-c9a2-b0c2947c6e4d"
   },
   "outputs": [
    {
     "data": {
      "text/plain": [
       "1"
      ]
     },
     "execution_count": 47,
     "metadata": {},
     "output_type": "execute_result"
    }
   ],
   "source": [
    "lst_1[0]"
   ]
  },
  {
   "cell_type": "code",
   "execution_count": 48,
   "metadata": {
    "colab": {
     "base_uri": "https://localhost:8080/"
    },
    "executionInfo": {
     "elapsed": 445,
     "status": "ok",
     "timestamp": 1674506756079,
     "user": {
      "displayName": "Moones Fallah",
      "userId": "00329903373398097609"
     },
     "user_tz": -210
    },
    "id": "RF8aE2qqLBT-",
    "outputId": "15711f5e-a8dc-48ed-ad3f-293debefcc98"
   },
   "outputs": [
    {
     "data": {
      "text/plain": [
       "3"
      ]
     },
     "execution_count": 48,
     "metadata": {},
     "output_type": "execute_result"
    }
   ],
   "source": [
    "len(lst_1)"
   ]
  },
  {
   "cell_type": "code",
   "execution_count": 49,
   "metadata": {
    "executionInfo": {
     "elapsed": 465,
     "status": "ok",
     "timestamp": 1674506760280,
     "user": {
      "displayName": "Moones Fallah",
      "userId": "00329903373398097609"
     },
     "user_tz": -210
    },
    "id": "dz62hK1dLBT_"
   },
   "outputs": [],
   "source": [
    "lst_1.append(20)"
   ]
  },
  {
   "cell_type": "code",
   "execution_count": 50,
   "metadata": {
    "colab": {
     "base_uri": "https://localhost:8080/"
    },
    "executionInfo": {
     "elapsed": 461,
     "status": "ok",
     "timestamp": 1674506762649,
     "user": {
      "displayName": "Moones Fallah",
      "userId": "00329903373398097609"
     },
     "user_tz": -210
    },
    "id": "vyxP3BBSLBT_",
    "outputId": "aeaf48e1-aea2-4825-d2b9-ae8703c634e6"
   },
   "outputs": [
    {
     "data": {
      "text/plain": [
       "[1, 2, 3, 20]"
      ]
     },
     "execution_count": 50,
     "metadata": {},
     "output_type": "execute_result"
    }
   ],
   "source": [
    "lst_1"
   ]
  },
  {
   "cell_type": "code",
   "execution_count": 51,
   "metadata": {
    "colab": {
     "base_uri": "https://localhost:8080/"
    },
    "executionInfo": {
     "elapsed": 445,
     "status": "ok",
     "timestamp": 1674506770256,
     "user": {
      "displayName": "Moones Fallah",
      "userId": "00329903373398097609"
     },
     "user_tz": -210
    },
    "id": "u60X3m8OLBT_",
    "outputId": "1f506863-fae3-4d14-ce17-88be475b35a3"
   },
   "outputs": [
    {
     "data": {
      "text/plain": [
       "4"
      ]
     },
     "execution_count": 51,
     "metadata": {},
     "output_type": "execute_result"
    }
   ],
   "source": [
    "len(lst_1)"
   ]
  },
  {
   "cell_type": "markdown",
   "metadata": {
    "id": "pN4f_vCNLBUA"
   },
   "source": [
    "# تمرین-2"
   ]
  },
  {
   "cell_type": "code",
   "execution_count": 52,
   "metadata": {
    "executionInfo": {
     "elapsed": 440,
     "status": "ok",
     "timestamp": 1674506775720,
     "user": {
      "displayName": "Moones Fallah",
      "userId": "00329903373398097609"
     },
     "user_tz": -210
    },
    "id": "V1wQofiELBUA"
   },
   "outputs": [],
   "source": [
    "lst_2=['hi',1,[1,2]]"
   ]
  },
  {
   "cell_type": "code",
   "execution_count": 53,
   "metadata": {
    "colab": {
     "base_uri": "https://localhost:8080/"
    },
    "executionInfo": {
     "elapsed": 451,
     "status": "ok",
     "timestamp": 1674506786972,
     "user": {
      "displayName": "Moones Fallah",
      "userId": "00329903373398097609"
     },
     "user_tz": -210
    },
    "id": "YI_Xr4uBLBUA",
    "outputId": "674eb605-029b-4404-c2c0-f442c11fc63e"
   },
   "outputs": [
    {
     "data": {
      "text/plain": [
       "[1, 2]"
      ]
     },
     "execution_count": 53,
     "metadata": {},
     "output_type": "execute_result"
    }
   ],
   "source": [
    "lst_3=lst_2[2]\n",
    "lst_3"
   ]
  },
  {
   "cell_type": "code",
   "execution_count": 54,
   "metadata": {
    "colab": {
     "base_uri": "https://localhost:8080/"
    },
    "executionInfo": {
     "elapsed": 446,
     "status": "ok",
     "timestamp": 1674506812153,
     "user": {
      "displayName": "Moones Fallah",
      "userId": "00329903373398097609"
     },
     "user_tz": -210
    },
    "id": "drH7fH5ALBUB",
    "outputId": "ea98d21d-46ca-4270-cf03-1793f621db0b"
   },
   "outputs": [
    {
     "data": {
      "text/plain": [
       "2"
      ]
     },
     "execution_count": 54,
     "metadata": {},
     "output_type": "execute_result"
    }
   ],
   "source": [
    "lst_3[1]"
   ]
  },
  {
   "cell_type": "code",
   "execution_count": 55,
   "metadata": {
    "colab": {
     "base_uri": "https://localhost:8080/"
    },
    "executionInfo": {
     "elapsed": 444,
     "status": "ok",
     "timestamp": 1674506833146,
     "user": {
      "displayName": "Moones Fallah",
      "userId": "00329903373398097609"
     },
     "user_tz": -210
    },
    "id": "Oo7maQo4LBUB",
    "outputId": "4cdf1263-a4eb-4aa2-9535-6ceaec050c20"
   },
   "outputs": [
    {
     "data": {
      "text/plain": [
       "2"
      ]
     },
     "execution_count": 55,
     "metadata": {},
     "output_type": "execute_result"
    }
   ],
   "source": [
    "lst_2[2][1]"
   ]
  },
  {
   "cell_type": "markdown",
   "metadata": {
    "id": "kUs5YumrLBUB"
   },
   "source": [
    "# تمرین-3"
   ]
  },
  {
   "cell_type": "code",
   "execution_count": 56,
   "metadata": {
    "executionInfo": {
     "elapsed": 457,
     "status": "ok",
     "timestamp": 1674506859390,
     "user": {
      "displayName": "Moones Fallah",
      "userId": "00329903373398097609"
     },
     "user_tz": -210
    },
    "id": "RRGyfO9sLBUB"
   },
   "outputs": [],
   "source": [
    "lst_4 = ['a','b','c']"
   ]
  },
  {
   "cell_type": "code",
   "execution_count": 57,
   "metadata": {
    "executionInfo": {
     "elapsed": 7,
     "status": "ok",
     "timestamp": 1674506861550,
     "user": {
      "displayName": "Moones Fallah",
      "userId": "00329903373398097609"
     },
     "user_tz": -210
    },
    "id": "PQMiw56VLBUB"
   },
   "outputs": [],
   "source": [
    "lst_4.append('d')"
   ]
  },
  {
   "cell_type": "code",
   "execution_count": 58,
   "metadata": {
    "colab": {
     "base_uri": "https://localhost:8080/"
    },
    "executionInfo": {
     "elapsed": 468,
     "status": "ok",
     "timestamp": 1674506863829,
     "user": {
      "displayName": "Moones Fallah",
      "userId": "00329903373398097609"
     },
     "user_tz": -210
    },
    "id": "eIdH7hKwLBUC",
    "outputId": "bd20eea8-9d2f-4c12-96ed-c814a791f139"
   },
   "outputs": [
    {
     "data": {
      "text/plain": [
       "['a', 'b', 'c', 'd']"
      ]
     },
     "execution_count": 58,
     "metadata": {},
     "output_type": "execute_result"
    }
   ],
   "source": [
    "lst_4"
   ]
  },
  {
   "cell_type": "code",
   "execution_count": 59,
   "metadata": {
    "executionInfo": {
     "elapsed": 489,
     "status": "ok",
     "timestamp": 1674506870835,
     "user": {
      "displayName": "Moones Fallah",
      "userId": "00329903373398097609"
     },
     "user_tz": -210
    },
    "id": "F1Su95QsLBUC"
   },
   "outputs": [],
   "source": [
    "lst_4[2] = 'NEW'"
   ]
  },
  {
   "cell_type": "code",
   "execution_count": 60,
   "metadata": {
    "colab": {
     "base_uri": "https://localhost:8080/"
    },
    "executionInfo": {
     "elapsed": 464,
     "status": "ok",
     "timestamp": 1674506875511,
     "user": {
      "displayName": "Moones Fallah",
      "userId": "00329903373398097609"
     },
     "user_tz": -210
    },
    "id": "4uVV8PsNLBUC",
    "outputId": "9d3adf87-aa3e-4080-b5eb-7abef8cb5042"
   },
   "outputs": [
    {
     "data": {
      "text/plain": [
       "['a', 'b', 'NEW', 'd']"
      ]
     },
     "execution_count": 60,
     "metadata": {},
     "output_type": "execute_result"
    }
   ],
   "source": [
    "\n",
    "lst_4"
   ]
  },
  {
   "cell_type": "code",
   "execution_count": 61,
   "metadata": {
    "executionInfo": {
     "elapsed": 480,
     "status": "ok",
     "timestamp": 1674506884424,
     "user": {
      "displayName": "Moones Fallah",
      "userId": "00329903373398097609"
     },
     "user_tz": -210
    },
    "id": "vpPVm-slLBUD"
   },
   "outputs": [],
   "source": [
    "lst_4=[2,4,6,8,10]"
   ]
  },
  {
   "cell_type": "code",
   "execution_count": 62,
   "metadata": {
    "colab": {
     "base_uri": "https://localhost:8080/"
    },
    "executionInfo": {
     "elapsed": 457,
     "status": "ok",
     "timestamp": 1674506892993,
     "user": {
      "displayName": "Moones Fallah",
      "userId": "00329903373398097609"
     },
     "user_tz": -210
    },
    "id": "jVmiw2QjLBUD",
    "outputId": "008bd00c-2abd-43aa-a480-542262be87a5"
   },
   "outputs": [
    {
     "data": {
      "text/plain": [
       "['new', 4, 6, 8, 10]"
      ]
     },
     "execution_count": 62,
     "metadata": {},
     "output_type": "execute_result"
    }
   ],
   "source": [
    "lst_4[0]='new'\n",
    "lst_4"
   ]
  },
  {
   "cell_type": "code",
   "execution_count": 63,
   "metadata": {
    "colab": {
     "base_uri": "https://localhost:8080/"
    },
    "executionInfo": {
     "elapsed": 452,
     "status": "ok",
     "timestamp": 1674506903817,
     "user": {
      "displayName": "Moones Fallah",
      "userId": "00329903373398097609"
     },
     "user_tz": -210
    },
    "id": "Pcf3hwlXLBUD",
    "outputId": "e5ffd9ee-0a68-446e-cd1a-06118c95933a"
   },
   "outputs": [
    {
     "data": {
      "text/plain": [
       "['new', 4, 6, 'orange', 8, 10]"
      ]
     },
     "execution_count": 63,
     "metadata": {},
     "output_type": "execute_result"
    }
   ],
   "source": [
    "lst_4.insert(3, \"orange\")\n",
    "lst_4"
   ]
  },
  {
   "cell_type": "markdown",
   "metadata": {
    "id": "TuanRqKeLBUE"
   },
   "source": [
    "# تمرین-4\n"
   ]
  },
  {
   "cell_type": "code",
   "execution_count": 64,
   "metadata": {
    "executionInfo": {
     "elapsed": 585,
     "status": "ok",
     "timestamp": 1674506921993,
     "user": {
      "displayName": "Moones Fallah",
      "userId": "00329903373398097609"
     },
     "user_tz": -210
    },
    "id": "rXRc3VX9LBUE"
   },
   "outputs": [],
   "source": [
    "nest = [1,2,3,[4,5,['target']]]"
   ]
  },
  {
   "cell_type": "code",
   "execution_count": 65,
   "metadata": {
    "colab": {
     "base_uri": "https://localhost:8080/"
    },
    "executionInfo": {
     "elapsed": 583,
     "status": "ok",
     "timestamp": 1674506927943,
     "user": {
      "displayName": "Moones Fallah",
      "userId": "00329903373398097609"
     },
     "user_tz": -210
    },
    "id": "2IeqyZheLBUF",
    "outputId": "76d48aaa-2ba1-4f5c-e7a1-da1ac695115c"
   },
   "outputs": [
    {
     "data": {
      "text/plain": [
       "[4, 5, ['target']]"
      ]
     },
     "execution_count": 65,
     "metadata": {},
     "output_type": "execute_result"
    }
   ],
   "source": [
    "nest[3]"
   ]
  },
  {
   "cell_type": "code",
   "execution_count": 66,
   "metadata": {
    "colab": {
     "base_uri": "https://localhost:8080/"
    },
    "executionInfo": {
     "elapsed": 10,
     "status": "ok",
     "timestamp": 1674506929743,
     "user": {
      "displayName": "Moones Fallah",
      "userId": "00329903373398097609"
     },
     "user_tz": -210
    },
    "id": "Sq79rwVaLBUF",
    "outputId": "817cf42f-1de0-4f20-8a6d-6dd0dc7a7467"
   },
   "outputs": [
    {
     "data": {
      "text/plain": [
       "['target']"
      ]
     },
     "execution_count": 66,
     "metadata": {},
     "output_type": "execute_result"
    }
   ],
   "source": [
    "nest[3][2]"
   ]
  },
  {
   "cell_type": "code",
   "execution_count": 67,
   "metadata": {
    "colab": {
     "base_uri": "https://localhost:8080/",
     "height": 35
    },
    "executionInfo": {
     "elapsed": 617,
     "status": "ok",
     "timestamp": 1674506947454,
     "user": {
      "displayName": "Moones Fallah",
      "userId": "00329903373398097609"
     },
     "user_tz": -210
    },
    "id": "Vg56YwruLBUF",
    "outputId": "3e83cc07-b012-43e2-966d-7675e7a81313"
   },
   "outputs": [
    {
     "data": {
      "text/plain": [
       "'target'"
      ]
     },
     "execution_count": 67,
     "metadata": {},
     "output_type": "execute_result"
    }
   ],
   "source": [
    "nest[3][2][0]"
   ]
  },
  {
   "cell_type": "code",
   "execution_count": 68,
   "metadata": {
    "colab": {
     "base_uri": "https://localhost:8080/",
     "height": 35
    },
    "executionInfo": {
     "elapsed": 461,
     "status": "ok",
     "timestamp": 1674506967170,
     "user": {
      "displayName": "Moones Fallah",
      "userId": "00329903373398097609"
     },
     "user_tz": -210
    },
    "id": "Q09M0ls2LBUG",
    "outputId": "9d085284-d47d-48af-ba66-bd29f10cdfc1"
   },
   "outputs": [
    {
     "data": {
      "text/plain": [
       "'t'"
      ]
     },
     "execution_count": 68,
     "metadata": {},
     "output_type": "execute_result"
    }
   ],
   "source": [
    "nest[3][2][0][5]"
   ]
  },
  {
   "cell_type": "code",
   "execution_count": 69,
   "metadata": {},
   "outputs": [
    {
     "data": {
      "text/plain": [
       "6"
      ]
     },
     "execution_count": 69,
     "metadata": {},
     "output_type": "execute_result"
    }
   ],
   "source": [
    "len(lst_4)"
   ]
  },
  {
   "cell_type": "code",
   "execution_count": 70,
   "metadata": {},
   "outputs": [],
   "source": [
    "lst_4.insert(2,'My home')"
   ]
  },
  {
   "cell_type": "code",
   "execution_count": 71,
   "metadata": {},
   "outputs": [
    {
     "name": "stdout",
     "output_type": "stream",
     "text": [
      "['new', 4, 'My home', 6, 'orange', 8, 10]\n"
     ]
    }
   ],
   "source": [
    "print(lst_4)"
   ]
  },
  {
   "cell_type": "markdown",
   "metadata": {
    "id": "6WD3H1lsLBUG"
   },
   "source": [
    "# !موفق باشید"
   ]
  },
  {
   "cell_type": "code",
   "execution_count": null,
   "metadata": {
    "executionInfo": {
     "elapsed": 9,
     "status": "ok",
     "timestamp": 1674492060024,
     "user": {
      "displayName": "Moones Fallah",
      "userId": "00329903373398097609"
     },
     "user_tz": -210
    },
    "id": "GVMiuzcBgQr3"
   },
   "outputs": [],
   "source": []
  }
 ],
 "metadata": {
  "colab": {
   "provenance": []
  },
  "kernelspec": {
   "display_name": "Python 3 (ipykernel)",
   "language": "python",
   "name": "python3"
  },
  "language_info": {
   "codemirror_mode": {
    "name": "ipython",
    "version": 3
   },
   "file_extension": ".py",
   "mimetype": "text/x-python",
   "name": "python",
   "nbconvert_exporter": "python",
   "pygments_lexer": "ipython3",
   "version": "3.9.12"
  }
 },
 "nbformat": 4,
 "nbformat_minor": 1
}
